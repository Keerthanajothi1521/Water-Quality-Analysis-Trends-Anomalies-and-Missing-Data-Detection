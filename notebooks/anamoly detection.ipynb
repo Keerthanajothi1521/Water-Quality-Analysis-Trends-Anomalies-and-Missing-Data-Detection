data['z_score'] = (data['value'] - data['value'].mean()) / data['value'].std()

data['is_anomaly'] = np.abs(data['z_score']) > 2

anomaly_chart = alt.Chart(data).mark_circle(size=100).encode(
    x='sample_date:T',
    y='value:Q',
    color=alt.condition(
        alt.datum.is_anomaly,
        alt.value('red'),  # Color anomalies red
        alt.value('blue')  # Normal points blue
    ),
    tooltip=['sample_date:T', 'value:Q', 'is_anomaly']
).properties(
    title='Anomalies in Dissolved Oxygen Levels'
