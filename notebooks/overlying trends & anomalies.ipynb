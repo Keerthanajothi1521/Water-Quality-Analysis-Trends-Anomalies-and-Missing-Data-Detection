base = alt.Chart(data).mark_circle(size=100).encode(
    x='sample_date:T',
    y='value:Q',
    tooltip=['sample_date:T', 'value:Q', 'is_anomaly']
)
anomalies = base.encode(
    color=alt.condition(
        alt.datum.is_anomaly,
        alt.value('red'),  # Anomalies in red
        alt.value('blue')  # Normal points in blue
    )
)
trend_line = alt.Chart(data).transform_regression(
    'sample_date', 'value'
).mark_line(color='green').encode(
    x='sample_date:T',
    y='value:Q'
)

final_chart = (anomalies + trend_line).properties(
    title='Overlay of Trends and Anomalies in Dissolved Oxygen'
)
