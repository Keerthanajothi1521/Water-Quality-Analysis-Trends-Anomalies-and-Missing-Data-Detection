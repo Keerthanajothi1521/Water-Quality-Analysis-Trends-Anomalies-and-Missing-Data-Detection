data = pd.DataFrame({
    'location': ['Boonsri', 'Achara', 'Somchair', 'Becha', 'Tansanee', 'Chai', 'Sakda', 'Kannika'],
    'sample_date': pd.to_datetime(['1998-01-11'] * 8),
    'measure': [
        'Water temperature', 'Dissolved oxygen', 'Ammonium',
        'Nitrites', 'Nitrates', 'Orthophosphate-phosphorus',
        'Total phosphorus', 'Sodium'
    ],
    'value': [2, None, 0.33, 0.01, 1.47, 0.06, 0.09, None]
})

data['missing'] = data['value'].isna()

missing_chart = alt.Chart(data).mark_rect().encode(
    x='location:N',
    y='measure:N',
    color=alt.Color('missing:Q', scale=alt.Scale(domain=[0, 1], range=['green', 'red'])),
    tooltip=['location:N', 'measure:N', 'missing']
).properties(
    title='Missing Data Matrix'
)
missing_chart
