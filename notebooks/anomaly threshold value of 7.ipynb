scatter_plot = alt.Chart(data).mark_circle(size=100).encode(
    x='sample_date:T',
    y='value:Q',
    color=alt.condition(
        alt.datum.value > 7, 
        alt.value('red'),  
        alt.value('blue')  
    ),
    tooltip=['sample_date:T', 'value:Q', 'location:N']
).properties(
    title='Scatter Plot of Dissolved Oxygen Levels with Anomalies'
)

scatter_plot
