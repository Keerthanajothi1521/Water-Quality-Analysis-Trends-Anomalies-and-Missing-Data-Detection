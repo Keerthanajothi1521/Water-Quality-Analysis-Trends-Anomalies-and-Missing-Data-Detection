time_data = pd.DataFrame({
    'date': pd.date_range('1998-01-01', '1998-01-15'),
    'location': ['Boonsri'] * 15
})

merged = time_data.merge(data, left_on=['date', 'location'], right_on=['sample_date', 'location'], how='left')

merged['missing'] = merged['value'].isna()

# Line Chart to Show Temporal Gaps
temporal_gap_chart = alt.Chart(merged).mark_line().encode(
    x='date:T',
    y=alt.Y('value:Q', scale=alt.Scale(domain=[0, 3])),
    color=alt.Color('missing:Q', scale=alt.Scale(domain=[0, 1], range=['blue', 'red'])),
    tooltip=['date:T', 'value:Q', 'missing']
).properties(
    title='Temporal Gaps in Data'
)
