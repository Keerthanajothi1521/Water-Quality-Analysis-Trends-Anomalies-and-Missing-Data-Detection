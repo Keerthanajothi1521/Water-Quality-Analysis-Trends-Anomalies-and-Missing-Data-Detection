data = pd.DataFrame({
    'sensor_location': ['Boonsri', 'Chai', 'Kannika', 'Somchair'] * 10,
    'date': pd.date_range('2024-01-01', periods=10).tolist() * 4,
    'chemical': ['Nitrates', 'Ammonium', 'Potassium', 'Phosphorus'] * 10,
    'concentration': [0.5, 1.2, 0.7, 0.3] * 10
})

heatmap = alt.Chart(data).mark_rect().encode(
    x='date:T',
    y='sensor_location:N',
    color=alt.Color('concentration:Q', scale=alt.Scale(scheme='viridis')),
    tooltip=['sensor_location', 'date', 'concentration']
).facet(
    column='chemical:N'
).properties(
    title='Chemical Concentration Trends Over Time'
).resolve_scale(
    color='independent'
)

heatmap
