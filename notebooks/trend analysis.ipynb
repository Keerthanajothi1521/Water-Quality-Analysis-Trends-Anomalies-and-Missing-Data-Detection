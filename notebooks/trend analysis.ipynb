data = pd.DataFrame({
    'sample_date': pd.to_datetime(
        ['1998-01-01', '1998-01-10', '1998-01-20', '1998-01-30', '1998-02-10']
    ),
    'location': ['Boonsri'] * 5,
    'measure': ['Dissolved oxygen'] * 5,
    'value': [6.8, 6.5, 7.0, 6.9, 7.2]
})
trend_chart = alt.Chart(data).mark_line(point=True).encode(
    x='sample_date:T',
    y='value:Q',
    color='location:N',
    tooltip=['sample_date:T', 'value:Q', 'location:N']
).properties(
    title='Trends in Dissolved Oxygen Over Time'
)
trend_chart
